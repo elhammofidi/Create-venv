{
 "cells": [
  {
   "cell_type": "markdown",
   "id": "7d6b8a93-5f1d-4484-aa86-5b0a16f783f8",
   "metadata": {},
   "source": [
    "## Create virtual enviroment in Git Bash\n",
    "#### Introduction python virtual Environment.\n",
    "#### Why do we need a virtual environment? \n",
    "#### How to create **venv** in git bash?"
   ]
  },
  {
   "cell_type": "markdown",
   "id": "abade310-f176-4ade-a458-2c862f99e260",
   "metadata": {},
   "source": [
    "1. Introduction python virtual environment.\n",
    " - A python virtual environment is an isolated space where you can work on your Python projects, separately from your system-installed Python. \n",
    " - You can set up your own libraries and dependencies without affecting the system python.\n",
    " - This is one of the most important tools that most Python developers use."
   ]
  },
  {
   "cell_type": "markdown",
   "id": "1917a040-436d-4114-85ec-2c0cd2c7b5ab",
   "metadata": {},
   "source": [
    "2. Why do we need a virtual environment?\n",
    " - if one project you are working on runs on Django 1.4 and another runs on Django 1.6, virtualenvs can keep those projects fully separate so you can    satisfy both requirements at once."
   ]
  },
  {
   "cell_type": "markdown",
   "id": "428f2983-7f72-4cf5-a327-1bfe5bebb7bf",
   "metadata": {},
   "source": [
    "3. How to create **venv** in git bash?\n",
    " - Use git bash as shell for terminal on windows.\n",
    " - Write in git bash:\n",
    "   1. python -m venv venv\n",
    "    ```\n",
    "        Create a python virtual environment.\n",
    "    ```\n",
    "    2. source ./venv/Scripts/activate\n",
    "     ```\n",
    "         Activate the virtual environment.\n",
    "     ```"
   ]
  },
  {
   "cell_type": "markdown",
   "id": "03303795-8fff-4b66-804d-050ca991aa91",
   "metadata": {},
   "source": [
    "- [x] Now, you can install the last version of the library in venv:\n",
    "      ```\n",
    "      - pip install < Name of the library >\n",
    "      ```\n",
    "- [x] If, you can install a special version of the library:\n",
    "      ```\n",
    "      - pip install < Name of the library > == version number\n",
    "      ```"
   ]
  },
  {
   "cell_type": "code",
   "execution_count": null,
   "id": "06ed38c1-5711-42a9-b75e-73250f433e9a",
   "metadata": {},
   "outputs": [],
   "source": []
  }
 ],
 "metadata": {
  "kernelspec": {
   "display_name": "Python 3 (ipykernel)",
   "language": "python",
   "name": "python3"
  },
  "language_info": {
   "codemirror_mode": {
    "name": "ipython",
    "version": 3
   },
   "file_extension": ".py",
   "mimetype": "text/x-python",
   "name": "python",
   "nbconvert_exporter": "python",
   "pygments_lexer": "ipython3",
   "version": "3.11.6"
  }
 },
 "nbformat": 4,
 "nbformat_minor": 5
}
